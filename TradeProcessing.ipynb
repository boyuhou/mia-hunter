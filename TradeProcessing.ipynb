{
 "cells": [
  {
   "cell_type": "code",
   "execution_count": 1,
   "id": "9c415875-38b2-407a-9825-d328508ae784",
   "metadata": {},
   "outputs": [],
   "source": [
    "import pandas as pd"
   ]
  },
  {
   "cell_type": "code",
   "execution_count": 22,
   "id": "3581312c-91a8-430e-adb2-322b4421e79b",
   "metadata": {},
   "outputs": [],
   "source": [
    "import datetime"
   ]
  },
  {
   "cell_type": "code",
   "execution_count": 30,
   "id": "ce8386ea-2b39-484c-9f89-426fbcbda4cb",
   "metadata": {},
   "outputs": [
    {
     "data": {
      "text/plain": [
       "'E:\\\\Dropbox\\\\Trade\\\\DataOutput\\\\trade_review_20231203_003445.csv'"
      ]
     },
     "execution_count": 30,
     "metadata": {},
     "output_type": "execute_result"
    }
   ],
   "source": [
    "file_path = r\"E:\\Dropbox\\Trade\\DataOutput\\EWZ.csv\"\n",
    "trade_file = f\"E:\\Dropbox\\Trade\\DataOutput\\\\trade_review_{datetime.datetime.now().strftime('%Y%m%d_%H%M%S')}.csv\"\n",
    "trade_file"
   ]
  },
  {
   "cell_type": "code",
   "execution_count": 6,
   "id": "80187370-8634-4083-be16-7b435815158b",
   "metadata": {},
   "outputs": [],
   "source": [
    "header_names = [\"Ticker\", \"Amount\", \"EntryTime\", \"EntryPrice\", \"StopPrice\", \"ExitTime\", \"ExitPrice\"]\n",
    "\n",
    "df = pd.read_csv(file_path, parse_dates=[\"EntryTime\", \"ExitTime\"], header=None, names=header_names)"
   ]
  },
  {
   "cell_type": "code",
   "execution_count": 19,
   "id": "71bfc5db-0dab-4ba6-adc1-29d24eafa14c",
   "metadata": {},
   "outputs": [],
   "source": [
    "df[\"Direction\"] = \"Long\"\n",
    "mask = df[\"EntryPrice\"] < df[\"StopPrice\"]\n",
    "df.loc[mask, \"Direction\"] = \"Short\"\n",
    "df[\"R\"] = (df[\"ExitPrice\"] - df[\"EntryPrice\"]) / (df[\"EntryPrice\"] - df[\"StopPrice\"])"
   ]
  },
  {
   "cell_type": "code",
   "execution_count": 21,
   "id": "9f3d5ca6-4937-4a77-aa82-95f56c8af46a",
   "metadata": {},
   "outputs": [
    {
     "data": {
      "text/plain": [
       "<AxesSubplot:>"
      ]
     },
     "execution_count": 21,
     "metadata": {},
     "output_type": "execute_result"
    },
    {
     "data": {
      "image/png": "[encoded data removed]",
      "text/plain": [
       "<Figure size 432x288 with 1 Axes>"
      ]
     },
     "metadata": {
      "needs_background": "light"
     },
     "output_type": "display_data"
    }
   ],
   "source": [
    "df[\"R\"].cumsum().plot()"
   ]
  },
  {
   "cell_type": "code",
   "execution_count": 31,
   "id": "2c545292-2e37-4d71-830c-4f56f3176681",
   "metadata": {},
   "outputs": [],
   "source": [
    "df.to_csv(trade_file)"
   ]
  },
  {
   "cell_type": "code",
   "execution_count": null,
   "id": "7ac82d8f-f6b6-4c89-a178-c756ed61193b",
   "metadata": {},
   "outputs": [],
   "source": []
  }
 ],
 "metadata": {
  "kernelspec": {
   "display_name": "Python 3 (ipykernel)",
   "language": "python",
   "name": "python3"
  },
  "language_info": {
   "codemirror_mode": {
    "name": "ipython",
    "version": 3
   },
   "file_extension": ".py",
   "mimetype": "text/x-python",
   "name": "python",
   "nbconvert_exporter": "python",
   "pygments_lexer": "ipython3",
   "version": "3.7.13"
  }
 },
 "nbformat": 4,
 "nbformat_minor": 5
}
