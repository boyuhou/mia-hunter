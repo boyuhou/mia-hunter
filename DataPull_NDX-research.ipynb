{
 "cells": [
  {
   "cell_type": "code",
   "execution_count": null,
   "id": "b55f56b5-f0d1-4f61-b221-0d95c5b14ada",
   "metadata": {
    "tags": []
   },
   "outputs": [],
   "source": [
    "import pyiqfeed as iq\n",
    "import pandas as pd\n",
    "import datetime\n",
    "import redis\n",
    "import miahunter as mh\n",
    "import numpy as np"
   ]
  },
  {
   "cell_type": "code",
   "execution_count": null,
   "id": "e56c3d09-9ba7-4156-ae88-cde9eec0e11d",
   "metadata": {
    "tags": []
   },
   "outputs": [],
   "source": [
    "redis_host = \"127.0.0.1\" #'dt-tor-03422.cppib.ca' \n",
    "redis_port = 6379\n",
    "redis_db = 0\n",
    "redis_server = redis.StrictRedis(host=redis_host, port=redis_port, db=redis_db, ssl=False)"
   ]
  },
  {
   "cell_type": "code",
   "execution_count": null,
   "id": "7105e84c-a9c2-4845-8f68-7c9ffd5689a7",
   "metadata": {
    "tags": []
   },
   "outputs": [],
   "source": [
    "ASSET_NAME = \"name\"\n",
    "DATE_NAME = \"date\"\n",
    "TIME_NAME = \"time\"\n",
    "DATETIME_NAME = \"datetime\"\n",
    "OPEN_NAME = \"open\"\n",
    "HIGH_NAME = \"high\"\n",
    "LOW_NAME = \"low\"\n",
    "CLOSE_NAME = \"close\"\n",
    "VOLUME_NAME = \"volume\"\n",
    "VOLUME_TOTAL_NAME = \"volume_total\"\n",
    "OPEN_INTEREST_NAME = \"open_interest\"\n",
    "TRADE_NUM_NAME = \"trade_number\"\n",
    "\n",
    "DICT_NAME_MAPPER = {\n",
    "    \"date\": DATE_NAME,\n",
    "    \"open_p\": OPEN_NAME,\n",
    "    \"high_p\": HIGH_NAME,\n",
    "    \"low_p\": LOW_NAME,\n",
    "    \"close_p\": CLOSE_NAME,\n",
    "    \"prd_vlm\": VOLUME_NAME,\n",
    "    \"open_int\": OPEN_INTEREST_NAME,\n",
    "    \"tot_vlm\": VOLUME_TOTAL_NAME,\n",
    "    \"num_trds\": TRADE_NUM_NAME,\n",
    "    \"time\": TIME_NAME,\n",
    "    \"last_sz\": VOLUME_NAME,\n",
    "    \"last\": CLOSE_NAME,\n",
    "}"
   ]
  },
  {
   "cell_type": "code",
   "execution_count": null,
   "id": "aa631019-d817-4889-82d6-7b9e53a8a087",
   "metadata": {
    "tags": []
   },
   "outputs": [],
   "source": [
    "def launch_service(dtn_login, dtn_password, dtn_product_id):\n",
    "    \"\"\"Check if IQFeed.exe is running and start if not\"\"\"\n",
    "\n",
    "    svc = iq.FeedService(\n",
    "        product=dtn_product_id,\n",
    "        version=\"Debugging\",\n",
    "        login=dtn_login,\n",
    "        password=dtn_password,\n",
    "    )\n",
    "    svc.launch(headless=False)\n",
    "from localconfig.passwords import dtn_login, dtn_password, dtn_product_id\n",
    "\n",
    "launch_service(dtn_login, dtn_password, dtn_product_id)"
   ]
  },
  {
   "cell_type": "code",
   "execution_count": null,
   "id": "6e7ff233-9fd8-409a-96b4-8fc6b2713395",
   "metadata": {
    "tags": []
   },
   "outputs": [],
   "source": [
    "end_date = datetime.datetime.today()\n",
    "start_date = datetime.datetime.today() - pd.offsets.BDay(500)\n",
    "\n",
    "# list_tickers = redis_server.keys()\n",
    "list_tickers = pd.read_clipboard()[\"Ticker\"].tolist()\n",
    "\n",
    "list_tickers = set(list_tickers)\n",
    "# list_tickers = [l.decode(\"utf-8\") for l in list_tickers]"
   ]
  },
  {
   "cell_type": "code",
   "execution_count": null,
   "id": "0fa33960-dbdd-4f38-b754-a7bdcec62978",
   "metadata": {
    "tags": []
   },
   "outputs": [],
   "source": [
    "hist_conn = iq.HistoryConn(name=\"hist-conn\")\n",
    "hist_listener = iq.VerboseIQFeedListener(\"History Bar Listener\")\n",
    "hist_conn.add_listener(hist_listener)\n",
    "\n",
    "dict_result = {}\n",
    "\n",
    "with iq.ConnConnector([hist_conn]) as connector:\n",
    "    for ticker in list_tickers:\n",
    "        try:\n",
    "            # print(f\"Processing {ticker}\")\n",
    "            d_start_date = pd.to_datetime(start_date).date()\n",
    "            d_end_date = pd.to_datetime(end_date).date()\n",
    "            daily_data = hist_conn.request_daily_data_for_dates(ticker, d_start_date, d_end_date, ascend=True)\n",
    "            df_daily = pd.DataFrame(daily_data).rename(columns=DICT_NAME_MAPPER).set_index(DATE_NAME)\n",
    "            dict_result[ticker] = df_daily\n",
    "        except (iq.NoDataError, iq.UnauthorizedError) as err:\n",
    "            print(f\"Wrong Data {ticker}\")"
   ]
  },
  {
   "cell_type": "code",
   "execution_count": null,
   "id": "1a025621-d373-4f7e-a9b0-7af3133296f9",
   "metadata": {
    "tags": []
   },
   "outputs": [],
   "source": [
    "list_dfs_low = []\n",
    "list_dfs_high = []\n",
    "list_dfs_close = []\n",
    "for ticker in dict_result.keys():\n",
    "    list_dfs_high.append(dict_result[ticker][HIGH_NAME].to_frame(ticker))\n",
    "    list_dfs_low.append(dict_result[ticker][LOW_NAME].to_frame(ticker))\n",
    "    list_dfs_close.append(dict_result[ticker][CLOSE_NAME].to_frame(ticker))\n",
    "df_high = pd.concat(list_dfs_high, axis=1)\n",
    "df_low = pd.concat(list_dfs_low, axis=1)\n",
    "df_close = pd.concat(list_dfs_close, axis=1)"
   ]
  },
  {
   "cell_type": "code",
   "execution_count": null,
   "id": "83ece964-e8c0-429a-9edf-225363d2fc83",
   "metadata": {},
   "outputs": [],
   "source": [
    "#Calculate NDX\n",
    "df_ndx_25 = mh.ndx(df_high, df_low, df_close, 25)\n",
    "df_ndx_252 = mh.ndx(df_high, df_low, df_close, 252)\n"
   ]
  },
  {
   "cell_type": "code",
   "execution_count": null,
   "id": "c4a65921-8bc0-418f-b89e-41c0e40cb0c7",
   "metadata": {},
   "outputs": [],
   "source": [
    "from importlib import reload \n",
    "mh = reload(mh)"
   ]
  },
  {
   "cell_type": "code",
   "execution_count": null,
   "id": "b50ae61d-0185-487e-a70e-b3df7675d2e3",
   "metadata": {
    "tags": []
   },
   "outputs": [],
   "source": [
    "df_upper, df_middle, df_lower = mh.get_bb(df_close, 10, 0.5)\n",
    "df_rs = mh.compute_wam_rs(df_high, df_low, df_close)"
   ]
  },
  {
   "cell_type": "code",
   "execution_count": null,
   "id": "8c82e95b-ab21-4aef-a11a-30a60e2592ea",
   "metadata": {},
   "outputs": [],
   "source": [
    "period = 25\n",
    "df_up_ind = df_ndx_25.copy()\n",
    "df_down_ind = df_ndx_25.copy()\n",
    "df_up_ind.loc[:, :] = 0\n",
    "df_down_ind.loc[:, :] = 0\n",
    "mask_up = (df_ndx_25 >  100)\n",
    "mask_down = (df_ndx_25 < 0)\n",
    "df_up_ind[mask_up] = 1\n",
    "df_down_ind[mask_down] = 1\n",
    "df_up_ind = df_up_ind.rolling(period).sum()\n",
    "df_down_ind = df_down_ind.rolling(period).sum()\n",
    "\n",
    "mask_up = (df_upper > df_close)\n",
    "mask_down = (df_lower < df_close)\n",
    "\n",
    "mask_up = (df_up_ind > 1) & mask_up & (df_ndx_252 >= 80) & (df_rs > 70)\n",
    "mask_down = (df_down_ind > 1) & mask_down & (df_ndx_252 <= 20) & (df_rs < 30) & (df_close > 5)\n",
    "\n",
    "df_signal_up = df_ndx_25.copy()\n",
    "df_signal_down = df_ndx_25.copy()\n",
    "df_signal_up.loc[:,:] = np.nan\n",
    "df_signal_down.loc[:,:] = np.nan\n",
    "df_signal_up[mask_up] = 1\n",
    "df_signal_down[mask_down] = 1"
   ]
  },
  {
   "cell_type": "code",
   "execution_count": null,
   "id": "2c196976-8488-4f33-ad39-d1291bfe60ef",
   "metadata": {},
   "outputs": [],
   "source": [
    "date = end_date.strftime(\"%Y-%m-%d\")\n",
    "df_slice_up = df_signal_up.loc[:date].tail(5).dropna(how=\"all\", axis=1)\n",
    "s_index_sort = df_rs.loc[:date].tail(1).T.iloc[:,0].loc[df_slice_up.columns].sort_values(ascending=False)\n",
    "df_slice_up.loc[:, s_index_sort.index].to_clipboard()"
   ]
  },
  {
   "cell_type": "code",
   "execution_count": null,
   "id": "714bc418-57cd-42c5-be76-30ed7a194b71",
   "metadata": {},
   "outputs": [],
   "source": [
    "df_slice_down = df_signal_down.loc[:date].tail(5).dropna(how=\"all\", axis=1)\n",
    "s_index_sort = df_rs.loc[:date].tail(1).T.iloc[:,0].loc[df_slice_down.columns].sort_values(ascending=True)\n",
    "df_slice_down.loc[:, s_index_sort.index].to_clipboard()"
   ]
  }
 ],
 "metadata": {
  "kernelspec": {
   "display_name": "Python 3 (ipykernel)",
   "language": "python",
   "name": "python3"
  },
  "language_info": {
   "codemirror_mode": {
    "name": "ipython",
    "version": 3
   },
   "file_extension": ".py",
   "mimetype": "text/x-python",
   "name": "python",
   "nbconvert_exporter": "python",
   "pygments_lexer": "ipython3",
   "version": "3.7.13"
  }
 },
 "nbformat": 4,
 "nbformat_minor": 5
}
